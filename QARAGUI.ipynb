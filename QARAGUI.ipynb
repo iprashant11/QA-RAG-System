{
 "cells": [
  {
   "cell_type": "code",
   "execution_count": 29,
   "id": "20bf60e9-3d48-4239-a2bd-c8481cec3ea5",
   "metadata": {},
   "outputs": [
    {
     "name": "stderr",
     "output_type": "stream",
     "text": [
      "C:\\Users\\prashanti\\.conda\\envs\\rag-env\\lib\\site-packages\\huggingface_hub\\file_download.py:943: FutureWarning: `resume_download` is deprecated and will be removed in version 1.0.0. Downloads always resume when possible. If you want to force a new download, use `force_download=True`.\n",
      "  warnings.warn(\n",
      "2025-06-03 16:35:55.027 Thread 'MainThread': missing ScriptRunContext! This warning can be ignored when running in bare mode.\n",
      "2025-06-03 16:35:55.039 Thread 'MainThread': missing ScriptRunContext! This warning can be ignored when running in bare mode.\n",
      "2025-06-03 16:35:55.042 Thread 'MainThread': missing ScriptRunContext! This warning can be ignored when running in bare mode.\n",
      "2025-06-03 16:35:55.048 Thread 'MainThread': missing ScriptRunContext! This warning can be ignored when running in bare mode.\n",
      "2025-06-03 16:35:55.049 Thread 'MainThread': missing ScriptRunContext! This warning can be ignored when running in bare mode.\n",
      "2025-06-03 16:35:55.050 Thread 'MainThread': missing ScriptRunContext! This warning can be ignored when running in bare mode.\n",
      "2025-06-03 16:35:55.051 Thread 'MainThread': missing ScriptRunContext! This warning can be ignored when running in bare mode.\n",
      "2025-06-03 16:35:55.055 Thread 'MainThread': missing ScriptRunContext! This warning can be ignored when running in bare mode.\n",
      "2025-06-03 16:35:55.056 Thread 'MainThread': missing ScriptRunContext! This warning can be ignored when running in bare mode.\n",
      "2025-06-03 16:35:55.057 Thread 'MainThread': missing ScriptRunContext! This warning can be ignored when running in bare mode.\n",
      "2025-06-03 16:35:55.060 Thread 'MainThread': missing ScriptRunContext! This warning can be ignored when running in bare mode.\n",
      "2025-06-03 16:35:55.062 Thread 'MainThread': missing ScriptRunContext! This warning can be ignored when running in bare mode.\n",
      "2025-06-03 16:35:55.065 Thread 'MainThread': missing ScriptRunContext! This warning can be ignored when running in bare mode.\n",
      "2025-06-03 16:35:55.066 Thread 'MainThread': missing ScriptRunContext! This warning can be ignored when running in bare mode.\n"
     ]
    }
   ],
   "source": [
    "import os\n",
    "import re\n",
    "import streamlit as st\n",
    "from langchain.vectorstores import FAISS\n",
    "from langchain.embeddings import HuggingFaceEmbeddings\n",
    "from langchain.chains import RetrievalQA\n",
    "from langchain.llms import Ollama\n",
    "\n",
    "# === CONFIGURATION ===\n",
    "index_folder = r\"F:\\Prashant Project\\Python AI ML Projects\\ClassifiedDocsVectorIndex\"\n",
    "\n",
    "# === LOAD EMBEDDINGS & VECTORSTORE ===\n",
    "embeddings = HuggingFaceEmbeddings(\n",
    "    model_name='sentence-transformers/all-MiniLM-L6-v2',\n",
    "    model_kwargs={\"device\": \"cpu\"}\n",
    ")\n",
    "\n",
    "vectorstore = FAISS.load_local(index_folder, embeddings, allow_dangerous_deserialization=True)\n",
    "retriever = vectorstore.as_retriever(search_kwargs={\"k\": 5})\n",
    "\n",
    "# === LLM & QA CHAIN ===\n",
    "llm = Ollama(model=\"llama3\")\n",
    "qa_chain = RetrievalQA.from_chain_type(llm=llm, retriever=retriever, return_source_documents=True)\n",
    "\n",
    "# === STREAMLIT UI ===\n",
    "st.set_page_config(page_title=\"PDF QA\", layout=\"centered\")\n",
    "st.title(\"🕵️‍♂️ Intelligence Q&A\")\n",
    "\n",
    "question = st.text_input(\"Ask a question:\", \"\")\n",
    "\n",
    "if st.button(\"Get Answer\") and question.strip():\n",
    "    with st.spinner(\"Thinking...\"):\n",
    "        result = qa_chain(question)\n",
    "\n",
    "        st.markdown(\"### 📄 Answer\")\n",
    "        st.write(result['result'])\n",
    "\n",
    "        relevant_docs_with_scores = vectorstore.similarity_search_with_score(question, k=5)\n",
    "\n",
    "        st.markdown(\"### 📚 Source Snippets\")\n",
    "        for i, (doc, score) in enumerate(relevant_docs_with_scores):\n",
    "            filename = os.path.basename(doc.metadata.get(\"source\", \"Unknown\"))\n",
    "            snippet = doc.page_content[:1000]\n",
    "\n",
    "            # Highlight matched answer\n",
    "            answer_text = result['result']\n",
    "            escaped_answer = re.escape(answer_text[:100])\n",
    "            snippet = re.sub(f\"({escaped_answer})\", r'<mark style=\"background-color: yellow\">\\1</mark>', snippet, flags=re.IGNORECASE)\n",
    "\n",
    "            with st.expander(f\"{i+1}. {filename} (Similarity: {score:.2f})\"):\n",
    "                st.markdown(snippet + \"...\", unsafe_allow_html=True)\n"
   ]
  },
  {
   "cell_type": "code",
   "execution_count": null,
   "id": "42a055b0-0a69-4b67-ba4d-6e048d6eb389",
   "metadata": {},
   "outputs": [],
   "source": []
  }
 ],
 "metadata": {
  "kernelspec": {
   "display_name": "Python (rag-env)",
   "language": "python",
   "name": "rag-env"
  },
  "language_info": {
   "codemirror_mode": {
    "name": "ipython",
    "version": 3
   },
   "file_extension": ".py",
   "mimetype": "text/x-python",
   "name": "python",
   "nbconvert_exporter": "python",
   "pygments_lexer": "ipython3",
   "version": "3.10.16"
  }
 },
 "nbformat": 4,
 "nbformat_minor": 5
}
