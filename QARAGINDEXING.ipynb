{
 "cells": [
  {
   "cell_type": "code",
   "execution_count": 1,
   "id": "0f68309b-bcce-4cc0-8964-b323df752e10",
   "metadata": {},
   "outputs": [
    {
     "name": "stdout",
     "output_type": "stream",
     "text": [
      "✅ Processed 51 chunks from 1 PDF files.\n"
     ]
    },
    {
     "name": "stderr",
     "output_type": "stream",
     "text": [
      "C:\\Users\\prashanti\\AppData\\Local\\Temp\\ipykernel_28064\\541639227.py:75: LangChainDeprecationWarning: The class `HuggingFaceEmbeddings` was deprecated in LangChain 0.2.2 and will be removed in 1.0. An updated version of the class exists in the :class:`~langchain-huggingface package and should be used instead. To use it run `pip install -U :class:`~langchain-huggingface` and import as `from :class:`~langchain_huggingface import HuggingFaceEmbeddings``.\n",
      "  embeddings = HuggingFaceEmbeddings(\n",
      "C:\\Users\\prashanti\\.conda\\envs\\rag-env\\lib\\site-packages\\tqdm\\auto.py:21: TqdmWarning: IProgress not found. Please update jupyter and ipywidgets. See https://ipywidgets.readthedocs.io/en/stable/user_install.html\n",
      "  from .autonotebook import tqdm as notebook_tqdm\n",
      "C:\\Users\\prashanti\\.conda\\envs\\rag-env\\lib\\site-packages\\huggingface_hub\\file_download.py:943: FutureWarning: `resume_download` is deprecated and will be removed in version 1.0.0. Downloads always resume when possible. If you want to force a new download, use `force_download=True`.\n",
      "  warnings.warn(\n",
      "C:\\Users\\prashanti\\.conda\\envs\\rag-env\\lib\\site-packages\\huggingface_hub\\file_download.py:943: FutureWarning: `resume_download` is deprecated and will be removed in version 1.0.0. Downloads always resume when possible. If you want to force a new download, use `force_download=True`.\n",
      "  warnings.warn(\n"
     ]
    },
    {
     "name": "stdout",
     "output_type": "stream",
     "text": [
      "✅ FAISS vector store created and saved at: F:\\Prashant Project\\Python AI ML Projects\\ClassifiedDocsVectorIndex\n"
     ]
    }
   ],
   "source": [
    "import os\n",
    "import re\n",
    "from langchain.document_loaders import PyPDFLoader\n",
    "from langchain.text_splitter import RecursiveCharacterTextSplitter\n",
    "from langchain.vectorstores import FAISS\n",
    "from langchain.embeddings import HuggingFaceEmbeddings\n",
    "from langchain.schema import Document\n",
    "\n",
    "# === CONFIGURATION ===\n",
    "pdf_folder = r\"F:\\Prashant Project\\Python AI ML Projects\\ClassifiedDocs\\New\"\n",
    "index_folder = r\"F:\\Prashant Project\\Python AI ML Projects\\ClassifiedDocsVectorIndex\"\n",
    "\n",
    "# === TEXT CLEANING FUNCTION ===\n",
    "def preprocess_paragraphs(text):\n",
    "    text = re.sub(r\"[ ]{2,}\", \" \", text)  # Remove extra spaces\n",
    "    lines = text.split('\\n')\n",
    "\n",
    "    new_paras = []\n",
    "    join_paras = []\n",
    "\n",
    "    for line in lines:\n",
    "        line = line.strip()\n",
    "        if not line:\n",
    "            continue\n",
    "\n",
    "        if re.search(r'[.?:]$', line):  # Ends with punctuation\n",
    "            if join_paras:\n",
    "                join_paras.append(line)\n",
    "                para = ' '.join(join_paras)\n",
    "                new_paras.append(para)\n",
    "                join_paras = []\n",
    "            else:\n",
    "                new_paras.append(line)\n",
    "        else:\n",
    "            join_paras.append(line)\n",
    "\n",
    "    if join_paras:\n",
    "        new_paras.append(' '.join(join_paras))\n",
    "\n",
    "    return \"\\n\\n\".join(new_paras)\n",
    "\n",
    "# === TEXT SPLITTER ===\n",
    "splitter = RecursiveCharacterTextSplitter(chunk_size=1000, chunk_overlap=200)\n",
    "all_chunks = []\n",
    "\n",
    "# === LOAD, PREPROCESS, SPLIT ===\n",
    "pdf_files = [f for f in os.listdir(pdf_folder) if f.endswith('.pdf')]\n",
    "\n",
    "for file in pdf_files:\n",
    "    pdf_path = os.path.join(pdf_folder, file)\n",
    "    loader = PyPDFLoader(pdf_path)\n",
    "    pages = loader.load()\n",
    "\n",
    "    for page in pages:\n",
    "        raw_text = page.page_content\n",
    "        cleaned_text = preprocess_paragraphs(raw_text)\n",
    "\n",
    "        # Create a temporary Document with cleaned text and metadata\n",
    "        cleaned_doc = Document(\n",
    "            page_content=cleaned_text,\n",
    "            metadata={\"source\": file}\n",
    "        )\n",
    "\n",
    "        # Split cleaned document\n",
    "        chunks = splitter.split_documents([cleaned_doc])\n",
    "\n",
    "        # Add source metadata\n",
    "        for chunk in chunks:\n",
    "            chunk.metadata['source'] = file\n",
    "        all_chunks.extend(chunks)\n",
    "\n",
    "print(f\"✅ Processed {len(all_chunks)} chunks from {len(pdf_files)} PDF files.\")\n",
    "\n",
    "# === EMBEDDINGS & FAISS VECTOR STORE ===\n",
    "embeddings = HuggingFaceEmbeddings(\n",
    "    model_name='sentence-transformers/all-MiniLM-L6-v2',\n",
    "    model_kwargs={\"device\": \"cpu\"}\n",
    ")\n",
    "\n",
    "vectorstore = FAISS.from_documents(all_chunks, embeddings)\n",
    "vectorstore.save_local(index_folder)\n",
    "\n",
    "print(f\"✅ FAISS vector store created and saved at: {index_folder}\")\n",
    "\n"
   ]
  },
  {
   "cell_type": "code",
   "execution_count": null,
   "id": "4407de47-b263-45dc-8823-e129004f2b26",
   "metadata": {},
   "outputs": [],
   "source": []
  }
 ],
 "metadata": {
  "kernelspec": {
   "display_name": "Python (rag-env)",
   "language": "python",
   "name": "rag-env"
  },
  "language_info": {
   "codemirror_mode": {
    "name": "ipython",
    "version": 3
   },
   "file_extension": ".py",
   "mimetype": "text/x-python",
   "name": "python",
   "nbconvert_exporter": "python",
   "pygments_lexer": "ipython3",
   "version": "3.10.16"
  }
 },
 "nbformat": 4,
 "nbformat_minor": 5
}
